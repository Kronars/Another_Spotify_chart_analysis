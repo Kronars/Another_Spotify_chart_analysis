{
 "cells": [
  {
   "cell_type": "code",
   "execution_count": 1,
   "metadata": {},
   "outputs": [],
   "source": [
    "import requests as req\n",
    "import pandas as pd\n",
    "import numpy as np\n",
    "import matplotlib as mat\n",
    "from matplotlib import pyplot as plt"
   ]
  },
  {
   "cell_type": "markdown",
   "metadata": {},
   "source": [
    "# Анализ данных"
   ]
  },
  {
   "cell_type": "markdown",
   "metadata": {},
   "source": [
    "Гипотезы и цели:\n",
    "\n",
    "1. На сколько треки популярные во всём мире, популярны в разных странах\n",
    "2. Какое распределение предпочитаемых жанров среди стран\n",
    "3. Выяснить долю и популярность локальных исполнителей\n",
    "4. Разделить страны на кластеры по предпочтениям жанров и атрибутов музыки  "
   ]
  },
  {
   "cell_type": "markdown",
   "metadata": {},
   "source": [
    "Для удобства в первую очередь проверю все гипотезы на одном чарте, в дальнейшем проверю на остальных"
   ]
  },
  {
   "cell_type": "code",
   "execution_count": 12,
   "metadata": {},
   "outputs": [],
   "source": [
    "week_charts = pd.read_csv('data_sets\\week_charts_features.csv', index_col=0)"
   ]
  },
  {
   "cell_type": "markdown",
   "metadata": {},
   "source": [
    "### Дообработка данных (если нужна позиция в чарте)"
   ]
  },
  {
   "cell_type": "markdown",
   "metadata": {},
   "source": [
    "Поздно понял что место трека в чарте полезная информация"
   ]
  },
  {
   "cell_type": "code",
   "execution_count": 5,
   "metadata": {},
   "outputs": [],
   "source": [
    "position = np.arange(1, 51)\n",
    "countrs = week_charts.country.unique()\n",
    "iterabli = [countrs, position]\n",
    "idx = pd.MultiIndex.from_product(iterabli, names=['country', 'place'])"
   ]
  },
  {
   "cell_type": "code",
   "execution_count": 6,
   "metadata": {},
   "outputs": [
    {
     "ename": "ValueError",
     "evalue": "Length mismatch: Expected 6166 rows, received array of length 2650",
     "output_type": "error",
     "traceback": [
      "\u001b[1;31m---------------------------------------------------------------------------\u001b[0m",
      "\u001b[1;31mValueError\u001b[0m                                Traceback (most recent call last)",
      "\u001b[1;32mc:\\Users\\Senya\\Prog_2\\Проекты\\Another_Spotify_chart_analysis\\analisys.ipynb Cell 8'\u001b[0m in \u001b[0;36m<module>\u001b[1;34m\u001b[0m\n\u001b[1;32m----> <a href='vscode-notebook-cell:/c%3A/Users/Senya/Prog_2/%D0%9F%D1%80%D0%BE%D0%B5%D0%BA%D1%82%D1%8B/Another_Spotify_chart_analysis/analisys.ipynb#ch0000007?line=0'>1</a>\u001b[0m week_place \u001b[39m=\u001b[39m week_charts\u001b[39m.\u001b[39;49mset_index(idx) \\\n\u001b[0;32m      <a href='vscode-notebook-cell:/c%3A/Users/Senya/Prog_2/%D0%9F%D1%80%D0%BE%D0%B5%D0%BA%D1%82%D1%8B/Another_Spotify_chart_analysis/analisys.ipynb#ch0000007?line=1'>2</a>\u001b[0m             \u001b[39m.\u001b[39mdrop(\u001b[39m'\u001b[39m\u001b[39mcountry\u001b[39m\u001b[39m'\u001b[39m, axis\u001b[39m=\u001b[39m\u001b[39m1\u001b[39m) \\\n\u001b[0;32m      <a href='vscode-notebook-cell:/c%3A/Users/Senya/Prog_2/%D0%9F%D1%80%D0%BE%D0%B5%D0%BA%D1%82%D1%8B/Another_Spotify_chart_analysis/analisys.ipynb#ch0000007?line=2'>3</a>\u001b[0m             \u001b[39m.\u001b[39mreset_index()\n",
      "File \u001b[1;32mD:\\Anacondec\\envs\\Diplom\\lib\\site-packages\\pandas\\util\\_decorators.py:311\u001b[0m, in \u001b[0;36mdeprecate_nonkeyword_arguments.<locals>.decorate.<locals>.wrapper\u001b[1;34m(*args, **kwargs)\u001b[0m\n\u001b[0;32m    <a href='file:///d%3A/Anacondec/envs/Diplom/lib/site-packages/pandas/util/_decorators.py?line=304'>305</a>\u001b[0m \u001b[39mif\u001b[39;00m \u001b[39mlen\u001b[39m(args) \u001b[39m>\u001b[39m num_allow_args:\n\u001b[0;32m    <a href='file:///d%3A/Anacondec/envs/Diplom/lib/site-packages/pandas/util/_decorators.py?line=305'>306</a>\u001b[0m     warnings\u001b[39m.\u001b[39mwarn(\n\u001b[0;32m    <a href='file:///d%3A/Anacondec/envs/Diplom/lib/site-packages/pandas/util/_decorators.py?line=306'>307</a>\u001b[0m         msg\u001b[39m.\u001b[39mformat(arguments\u001b[39m=\u001b[39marguments),\n\u001b[0;32m    <a href='file:///d%3A/Anacondec/envs/Diplom/lib/site-packages/pandas/util/_decorators.py?line=307'>308</a>\u001b[0m         \u001b[39mFutureWarning\u001b[39;00m,\n\u001b[0;32m    <a href='file:///d%3A/Anacondec/envs/Diplom/lib/site-packages/pandas/util/_decorators.py?line=308'>309</a>\u001b[0m         stacklevel\u001b[39m=\u001b[39mstacklevel,\n\u001b[0;32m    <a href='file:///d%3A/Anacondec/envs/Diplom/lib/site-packages/pandas/util/_decorators.py?line=309'>310</a>\u001b[0m     )\n\u001b[1;32m--> <a href='file:///d%3A/Anacondec/envs/Diplom/lib/site-packages/pandas/util/_decorators.py?line=310'>311</a>\u001b[0m \u001b[39mreturn\u001b[39;00m func(\u001b[39m*\u001b[39margs, \u001b[39m*\u001b[39m\u001b[39m*\u001b[39mkwargs)\n",
      "File \u001b[1;32mD:\\Anacondec\\envs\\Diplom\\lib\\site-packages\\pandas\\core\\frame.py:5546\u001b[0m, in \u001b[0;36mDataFrame.set_index\u001b[1;34m(self, keys, drop, append, inplace, verify_integrity)\u001b[0m\n\u001b[0;32m   <a href='file:///d%3A/Anacondec/envs/Diplom/lib/site-packages/pandas/core/frame.py?line=5540'>5541</a>\u001b[0m             to_remove\u001b[39m.\u001b[39mappend(col)\n\u001b[0;32m   <a href='file:///d%3A/Anacondec/envs/Diplom/lib/site-packages/pandas/core/frame.py?line=5542'>5543</a>\u001b[0m     \u001b[39mif\u001b[39;00m \u001b[39mlen\u001b[39m(arrays[\u001b[39m-\u001b[39m\u001b[39m1\u001b[39m]) \u001b[39m!=\u001b[39m \u001b[39mlen\u001b[39m(\u001b[39mself\u001b[39m):\n\u001b[0;32m   <a href='file:///d%3A/Anacondec/envs/Diplom/lib/site-packages/pandas/core/frame.py?line=5543'>5544</a>\u001b[0m         \u001b[39m# check newest element against length of calling frame, since\u001b[39;00m\n\u001b[0;32m   <a href='file:///d%3A/Anacondec/envs/Diplom/lib/site-packages/pandas/core/frame.py?line=5544'>5545</a>\u001b[0m         \u001b[39m# ensure_index_from_sequences would not raise for append=False.\u001b[39;00m\n\u001b[1;32m-> <a href='file:///d%3A/Anacondec/envs/Diplom/lib/site-packages/pandas/core/frame.py?line=5545'>5546</a>\u001b[0m         \u001b[39mraise\u001b[39;00m \u001b[39mValueError\u001b[39;00m(\n\u001b[0;32m   <a href='file:///d%3A/Anacondec/envs/Diplom/lib/site-packages/pandas/core/frame.py?line=5546'>5547</a>\u001b[0m             \u001b[39mf\u001b[39m\u001b[39m\"\u001b[39m\u001b[39mLength mismatch: Expected \u001b[39m\u001b[39m{\u001b[39;00m\u001b[39mlen\u001b[39m(\u001b[39mself\u001b[39m)\u001b[39m}\u001b[39;00m\u001b[39m rows, \u001b[39m\u001b[39m\"\u001b[39m\n\u001b[0;32m   <a href='file:///d%3A/Anacondec/envs/Diplom/lib/site-packages/pandas/core/frame.py?line=5547'>5548</a>\u001b[0m             \u001b[39mf\u001b[39m\u001b[39m\"\u001b[39m\u001b[39mreceived array of length \u001b[39m\u001b[39m{\u001b[39;00m\u001b[39mlen\u001b[39m(arrays[\u001b[39m-\u001b[39m\u001b[39m1\u001b[39m])\u001b[39m}\u001b[39;00m\u001b[39m\"\u001b[39m\n\u001b[0;32m   <a href='file:///d%3A/Anacondec/envs/Diplom/lib/site-packages/pandas/core/frame.py?line=5548'>5549</a>\u001b[0m         )\n\u001b[0;32m   <a href='file:///d%3A/Anacondec/envs/Diplom/lib/site-packages/pandas/core/frame.py?line=5550'>5551</a>\u001b[0m index \u001b[39m=\u001b[39m ensure_index_from_sequences(arrays, names)\n\u001b[0;32m   <a href='file:///d%3A/Anacondec/envs/Diplom/lib/site-packages/pandas/core/frame.py?line=5552'>5553</a>\u001b[0m \u001b[39mif\u001b[39;00m verify_integrity \u001b[39mand\u001b[39;00m \u001b[39mnot\u001b[39;00m index\u001b[39m.\u001b[39mis_unique:\n",
      "\u001b[1;31mValueError\u001b[0m: Length mismatch: Expected 6166 rows, received array of length 2650"
     ]
    }
   ],
   "source": [
    "week_place = week_charts.set_index(idx) \\\n",
    "            .drop('country', axis=1) \\\n",
    "            .reset_index()"
   ]
  },
  {
   "cell_type": "code",
   "execution_count": 7,
   "metadata": {},
   "outputs": [
    {
     "ename": "NameError",
     "evalue": "name 'week_place' is not defined",
     "output_type": "error",
     "traceback": [
      "\u001b[1;31m---------------------------------------------------------------------------\u001b[0m",
      "\u001b[1;31mNameError\u001b[0m                                 Traceback (most recent call last)",
      "\u001b[1;32mc:\\Users\\Senya\\Prog_2\\Проекты\\Another_Spotify_chart_analysis\\analisys.ipynb Cell 9'\u001b[0m in \u001b[0;36m<module>\u001b[1;34m\u001b[0m\n\u001b[1;32m----> <a href='vscode-notebook-cell:/c%3A/Users/Senya/Prog_2/%D0%9F%D1%80%D0%BE%D0%B5%D0%BA%D1%82%D1%8B/Another_Spotify_chart_analysis/analisys.ipynb#ch0000008?line=0'>1</a>\u001b[0m week_place\u001b[39m.\u001b[39mhead(\u001b[39m4\u001b[39m)\n",
      "\u001b[1;31mNameError\u001b[0m: name 'week_place' is not defined"
     ]
    }
   ],
   "source": [
    "week_place.head(4)"
   ]
  },
  {
   "cell_type": "markdown",
   "metadata": {},
   "source": [
    "## 1. Насколько чарты стран схожи с глобальным чартом"
   ]
  },
  {
   "cell_type": "markdown",
   "metadata": {},
   "source": [
    "Формирую глобальный и локальные чарты"
   ]
  },
  {
   "cell_type": "code",
   "execution_count": 5,
   "metadata": {},
   "outputs": [
    {
     "data": {
      "text/html": [
       "<div>\n",
       "<style scoped>\n",
       "    .dataframe tbody tr th:only-of-type {\n",
       "        vertical-align: middle;\n",
       "    }\n",
       "\n",
       "    .dataframe tbody tr th {\n",
       "        vertical-align: top;\n",
       "    }\n",
       "\n",
       "    .dataframe thead th {\n",
       "        text-align: right;\n",
       "    }\n",
       "</style>\n",
       "<table border=\"1\" class=\"dataframe\">\n",
       "  <thead>\n",
       "    <tr style=\"text-align: right;\">\n",
       "      <th></th>\n",
       "      <th>place</th>\n",
       "      <th>name</th>\n",
       "    </tr>\n",
       "  </thead>\n",
       "  <tbody>\n",
       "    <tr>\n",
       "      <th>0</th>\n",
       "      <td>1</td>\n",
       "      <td>Heat Waves</td>\n",
       "    </tr>\n",
       "    <tr>\n",
       "      <th>1</th>\n",
       "      <td>2</td>\n",
       "      <td>STAY (with Justin Bieber)</td>\n",
       "    </tr>\n",
       "    <tr>\n",
       "      <th>2</th>\n",
       "      <td>3</td>\n",
       "      <td>Enemy (with JID) - from the series Arcane Leag...</td>\n",
       "    </tr>\n",
       "  </tbody>\n",
       "</table>\n",
       "</div>"
      ],
      "text/plain": [
       "   place                                               name\n",
       "0      1                                         Heat Waves\n",
       "1      2                          STAY (with Justin Bieber)\n",
       "2      3  Enemy (with JID) - from the series Arcane Leag..."
      ]
     },
     "execution_count": 5,
     "metadata": {},
     "output_type": "execute_result"
    }
   ],
   "source": [
    "global_chart = week_place[week_place.country == 'во всем мире'][['place', 'name']]\n",
    "global_chart.head(3)"
   ]
  },
  {
   "cell_type": "code",
   "execution_count": 6,
   "metadata": {},
   "outputs": [
    {
     "data": {
      "text/html": [
       "<div>\n",
       "<style scoped>\n",
       "    .dataframe tbody tr th:only-of-type {\n",
       "        vertical-align: middle;\n",
       "    }\n",
       "\n",
       "    .dataframe tbody tr th {\n",
       "        vertical-align: top;\n",
       "    }\n",
       "\n",
       "    .dataframe thead th {\n",
       "        text-align: right;\n",
       "    }\n",
       "</style>\n",
       "<table border=\"1\" class=\"dataframe\">\n",
       "  <thead>\n",
       "    <tr style=\"text-align: right;\">\n",
       "      <th></th>\n",
       "      <th>country</th>\n",
       "      <th>place</th>\n",
       "      <th>name</th>\n",
       "    </tr>\n",
       "  </thead>\n",
       "  <tbody>\n",
       "    <tr>\n",
       "      <th>50</th>\n",
       "      <td>Австралия</td>\n",
       "      <td>1</td>\n",
       "      <td>Heat Waves</td>\n",
       "    </tr>\n",
       "    <tr>\n",
       "      <th>51</th>\n",
       "      <td>Австралия</td>\n",
       "      <td>2</td>\n",
       "      <td>STAY (with Justin Bieber)</td>\n",
       "    </tr>\n",
       "    <tr>\n",
       "      <th>52</th>\n",
       "      <td>Австралия</td>\n",
       "      <td>3</td>\n",
       "      <td>Cold Heart - PNAU Remix</td>\n",
       "    </tr>\n",
       "  </tbody>\n",
       "</table>\n",
       "</div>"
      ],
      "text/plain": [
       "      country  place                       name\n",
       "50  Австралия      1                 Heat Waves\n",
       "51  Австралия      2  STAY (with Justin Bieber)\n",
       "52  Австралия      3    Cold Heart - PNAU Remix"
      ]
     },
     "execution_count": 6,
     "metadata": {},
     "output_type": "execute_result"
    }
   ],
   "source": [
    "country_charts = week_place[week_place.country != \"во всем мире\"][['country', 'place', 'name']]\n",
    "country_charts.head(3)"
   ]
  },
  {
   "cell_type": "markdown",
   "metadata": {},
   "source": [
    "Фрейм с треками и их позициями, которые есть в глобальном и локальных чартах"
   ]
  },
  {
   "cell_type": "code",
   "execution_count": 7,
   "metadata": {},
   "outputs": [
    {
     "data": {
      "text/html": [
       "<div>\n",
       "<style scoped>\n",
       "    .dataframe tbody tr th:only-of-type {\n",
       "        vertical-align: middle;\n",
       "    }\n",
       "\n",
       "    .dataframe tbody tr th {\n",
       "        vertical-align: top;\n",
       "    }\n",
       "\n",
       "    .dataframe thead th {\n",
       "        text-align: right;\n",
       "    }\n",
       "</style>\n",
       "<table border=\"1\" class=\"dataframe\">\n",
       "  <thead>\n",
       "    <tr style=\"text-align: right;\">\n",
       "      <th></th>\n",
       "      <th>country</th>\n",
       "      <th>place_in_global</th>\n",
       "      <th>name</th>\n",
       "      <th>place_in_local</th>\n",
       "    </tr>\n",
       "  </thead>\n",
       "  <tbody>\n",
       "    <tr>\n",
       "      <th>0</th>\n",
       "      <td>Австралия</td>\n",
       "      <td>1</td>\n",
       "      <td>Heat Waves</td>\n",
       "      <td>1</td>\n",
       "    </tr>\n",
       "    <tr>\n",
       "      <th>1</th>\n",
       "      <td>Австрия</td>\n",
       "      <td>1</td>\n",
       "      <td>Heat Waves</td>\n",
       "      <td>1</td>\n",
       "    </tr>\n",
       "    <tr>\n",
       "      <th>2</th>\n",
       "      <td>Бельгия</td>\n",
       "      <td>3</td>\n",
       "      <td>Heat Waves</td>\n",
       "      <td>1</td>\n",
       "    </tr>\n",
       "  </tbody>\n",
       "</table>\n",
       "</div>"
      ],
      "text/plain": [
       "     country  place_in_global        name  place_in_local\n",
       "0  Австралия                1  Heat Waves               1\n",
       "1    Австрия                1  Heat Waves               1\n",
       "2    Бельгия                3  Heat Waves               1"
      ]
     },
     "execution_count": 7,
     "metadata": {},
     "output_type": "execute_result"
    }
   ],
   "source": [
    "similarity = pd.merge(country_charts, global_chart, on='name', how='inner', suffixes=['_in_global', '_in_local'])\n",
    "similarity.head(3)"
   ]
  },
  {
   "cell_type": "markdown",
   "metadata": {},
   "source": [
    "Добавил три метрики:  \n",
    "Средняя позиция треков глобольного чарта в локальном  \n",
    "\n",
    "Стандартное отклонение разницы позиции трека в глобальном и локальных чартах  \n",
    "<!-- Иными словами - на сколько в среднем позиция трека в локальном чарте отличается от позиции в глобальном -->\n",
    "  \n",
    "Станартная ошибка среднего"
   ]
  },
  {
   "cell_type": "markdown",
   "metadata": {},
   "source": [
    "Мысли:  \n",
    "Позиция в чарте - ранговая переменная, не все \"классические\" методы подойдут для анализа  \n",
    "Если формировать новые выборки, прошлые и новые данные будут зависимыми переменными  "
   ]
  },
  {
   "cell_type": "code",
   "execution_count": 43,
   "metadata": {},
   "outputs": [],
   "source": [
    "result = similarity.copy()\n",
    "result['diff'] = result.place_in_local - result.place_in_global\n",
    "result = result.groupby('country') \\\n",
    "                .agg(\n",
    "                    amount=('name', 'count'),\n",
    "                    average_place_in_local=('place_in_local', lambda x: np.around(np.mean(x), 2)),\n",
    "                    std=('diff', 'std'),\n",
    "                    se=('diff', lambda x: x.std() / 50 ** 0.5)\n",
    "                )\n",
    "result = result.sort_values('amount', ascending=0)"
   ]
  },
  {
   "cell_type": "code",
   "execution_count": 45,
   "metadata": {},
   "outputs": [
    {
     "data": {
      "text/html": [
       "<div>\n",
       "<style scoped>\n",
       "    .dataframe tbody tr th:only-of-type {\n",
       "        vertical-align: middle;\n",
       "    }\n",
       "\n",
       "    .dataframe tbody tr th {\n",
       "        vertical-align: top;\n",
       "    }\n",
       "\n",
       "    .dataframe thead th {\n",
       "        text-align: right;\n",
       "    }\n",
       "</style>\n",
       "<table border=\"1\" class=\"dataframe\">\n",
       "  <thead>\n",
       "    <tr style=\"text-align: right;\">\n",
       "      <th></th>\n",
       "      <th>amount</th>\n",
       "      <th>average_place_in_local</th>\n",
       "      <th>std</th>\n",
       "      <th>se</th>\n",
       "    </tr>\n",
       "    <tr>\n",
       "      <th>country</th>\n",
       "      <th></th>\n",
       "      <th></th>\n",
       "      <th></th>\n",
       "      <th></th>\n",
       "    </tr>\n",
       "  </thead>\n",
       "  <tbody>\n",
       "    <tr>\n",
       "      <th>ОАЭ</th>\n",
       "      <td>35</td>\n",
       "      <td>22.80</td>\n",
       "      <td>7.476911</td>\n",
       "      <td>1.057395</td>\n",
       "    </tr>\n",
       "    <tr>\n",
       "      <th>Канада</th>\n",
       "      <td>34</td>\n",
       "      <td>22.03</td>\n",
       "      <td>13.569685</td>\n",
       "      <td>1.919043</td>\n",
       "    </tr>\n",
       "    <tr>\n",
       "      <th>Австралия</th>\n",
       "      <td>31</td>\n",
       "      <td>21.84</td>\n",
       "      <td>10.281207</td>\n",
       "      <td>1.453982</td>\n",
       "    </tr>\n",
       "    <tr>\n",
       "      <th>Швейцария</th>\n",
       "      <td>27</td>\n",
       "      <td>17.59</td>\n",
       "      <td>11.830835</td>\n",
       "      <td>1.673133</td>\n",
       "    </tr>\n",
       "    <tr>\n",
       "      <th>США</th>\n",
       "      <td>27</td>\n",
       "      <td>21.04</td>\n",
       "      <td>13.726262</td>\n",
       "      <td>1.941187</td>\n",
       "    </tr>\n",
       "    <tr>\n",
       "      <th>Ирландия</th>\n",
       "      <td>26</td>\n",
       "      <td>19.08</td>\n",
       "      <td>12.679299</td>\n",
       "      <td>1.793124</td>\n",
       "    </tr>\n",
       "    <tr>\n",
       "      <th>Австрия</th>\n",
       "      <td>25</td>\n",
       "      <td>18.56</td>\n",
       "      <td>10.388776</td>\n",
       "      <td>1.469195</td>\n",
       "    </tr>\n",
       "    <tr>\n",
       "      <th>Чехия</th>\n",
       "      <td>24</td>\n",
       "      <td>17.83</td>\n",
       "      <td>11.813696</td>\n",
       "      <td>1.670709</td>\n",
       "    </tr>\n",
       "    <tr>\n",
       "      <th>Словакия</th>\n",
       "      <td>24</td>\n",
       "      <td>17.62</td>\n",
       "      <td>13.142199</td>\n",
       "      <td>1.858588</td>\n",
       "    </tr>\n",
       "    <tr>\n",
       "      <th>Сингапур</th>\n",
       "      <td>24</td>\n",
       "      <td>18.21</td>\n",
       "      <td>17.284491</td>\n",
       "      <td>2.444396</td>\n",
       "    </tr>\n",
       "    <tr>\n",
       "      <th>Новая Зеландия</th>\n",
       "      <td>24</td>\n",
       "      <td>18.62</td>\n",
       "      <td>6.194756</td>\n",
       "      <td>0.876071</td>\n",
       "    </tr>\n",
       "    <tr>\n",
       "      <th>Бельгия</th>\n",
       "      <td>23</td>\n",
       "      <td>14.70</td>\n",
       "      <td>12.947141</td>\n",
       "      <td>1.831002</td>\n",
       "    </tr>\n",
       "    <tr>\n",
       "      <th>Великобритания</th>\n",
       "      <td>22</td>\n",
       "      <td>16.59</td>\n",
       "      <td>14.708421</td>\n",
       "      <td>2.080085</td>\n",
       "    </tr>\n",
       "    <tr>\n",
       "      <th>Венгрия</th>\n",
       "      <td>20</td>\n",
       "      <td>15.45</td>\n",
       "      <td>13.839208</td>\n",
       "      <td>1.957160</td>\n",
       "    </tr>\n",
       "    <tr>\n",
       "      <th>Германия</th>\n",
       "      <td>20</td>\n",
       "      <td>16.40</td>\n",
       "      <td>10.857328</td>\n",
       "      <td>1.535458</td>\n",
       "    </tr>\n",
       "    <tr>\n",
       "      <th>Малайзия</th>\n",
       "      <td>19</td>\n",
       "      <td>19.26</td>\n",
       "      <td>20.436609</td>\n",
       "      <td>2.890173</td>\n",
       "    </tr>\n",
       "    <tr>\n",
       "      <th>ЮАР</th>\n",
       "      <td>19</td>\n",
       "      <td>13.32</td>\n",
       "      <td>12.254609</td>\n",
       "      <td>1.733063</td>\n",
       "    </tr>\n",
       "    <tr>\n",
       "      <th>Саудовская Аравия</th>\n",
       "      <td>19</td>\n",
       "      <td>23.68</td>\n",
       "      <td>16.495968</td>\n",
       "      <td>2.332882</td>\n",
       "    </tr>\n",
       "    <tr>\n",
       "      <th>Румыния</th>\n",
       "      <td>18</td>\n",
       "      <td>16.83</td>\n",
       "      <td>19.981037</td>\n",
       "      <td>2.825745</td>\n",
       "    </tr>\n",
       "    <tr>\n",
       "      <th>Дания</th>\n",
       "      <td>18</td>\n",
       "      <td>14.56</td>\n",
       "      <td>15.442493</td>\n",
       "      <td>2.183898</td>\n",
       "    </tr>\n",
       "    <tr>\n",
       "      <th>Финляндия</th>\n",
       "      <td>18</td>\n",
       "      <td>15.67</td>\n",
       "      <td>14.282857</td>\n",
       "      <td>2.019901</td>\n",
       "    </tr>\n",
       "    <tr>\n",
       "      <th>Нидерланды</th>\n",
       "      <td>16</td>\n",
       "      <td>13.31</td>\n",
       "      <td>15.570137</td>\n",
       "      <td>2.201950</td>\n",
       "    </tr>\n",
       "    <tr>\n",
       "      <th>Норвегия</th>\n",
       "      <td>16</td>\n",
       "      <td>14.56</td>\n",
       "      <td>16.124386</td>\n",
       "      <td>2.280333</td>\n",
       "    </tr>\n",
       "    <tr>\n",
       "      <th>Израиль</th>\n",
       "      <td>16</td>\n",
       "      <td>12.88</td>\n",
       "      <td>6.407027</td>\n",
       "      <td>0.906091</td>\n",
       "    </tr>\n",
       "    <tr>\n",
       "      <th>Филиппины</th>\n",
       "      <td>14</td>\n",
       "      <td>16.36</td>\n",
       "      <td>15.660723</td>\n",
       "      <td>2.214761</td>\n",
       "    </tr>\n",
       "    <tr>\n",
       "      <th>Южная Корея</th>\n",
       "      <td>13</td>\n",
       "      <td>15.62</td>\n",
       "      <td>19.857182</td>\n",
       "      <td>2.808230</td>\n",
       "    </tr>\n",
       "    <tr>\n",
       "      <th>Панама</th>\n",
       "      <td>13</td>\n",
       "      <td>20.54</td>\n",
       "      <td>25.880643</td>\n",
       "      <td>3.660076</td>\n",
       "    </tr>\n",
       "    <tr>\n",
       "      <th>Тайвань</th>\n",
       "      <td>12</td>\n",
       "      <td>13.75</td>\n",
       "      <td>17.911187</td>\n",
       "      <td>2.533024</td>\n",
       "    </tr>\n",
       "    <tr>\n",
       "      <th>Швеция</th>\n",
       "      <td>12</td>\n",
       "      <td>13.00</td>\n",
       "      <td>8.233339</td>\n",
       "      <td>1.164370</td>\n",
       "    </tr>\n",
       "    <tr>\n",
       "      <th>Эквадор</th>\n",
       "      <td>11</td>\n",
       "      <td>23.45</td>\n",
       "      <td>29.296292</td>\n",
       "      <td>4.143121</td>\n",
       "    </tr>\n",
       "    <tr>\n",
       "      <th>Колумбия</th>\n",
       "      <td>10</td>\n",
       "      <td>22.10</td>\n",
       "      <td>27.240493</td>\n",
       "      <td>3.852387</td>\n",
       "    </tr>\n",
       "    <tr>\n",
       "      <th>Мексика</th>\n",
       "      <td>10</td>\n",
       "      <td>25.50</td>\n",
       "      <td>19.664124</td>\n",
       "      <td>2.780927</td>\n",
       "    </tr>\n",
       "    <tr>\n",
       "      <th>Перу</th>\n",
       "      <td>9</td>\n",
       "      <td>23.89</td>\n",
       "      <td>26.934076</td>\n",
       "      <td>3.809054</td>\n",
       "    </tr>\n",
       "    <tr>\n",
       "      <th>Гватемала</th>\n",
       "      <td>9</td>\n",
       "      <td>27.67</td>\n",
       "      <td>17.670597</td>\n",
       "      <td>2.499000</td>\n",
       "    </tr>\n",
       "    <tr>\n",
       "      <th>Испания</th>\n",
       "      <td>9</td>\n",
       "      <td>24.22</td>\n",
       "      <td>27.645072</td>\n",
       "      <td>3.909604</td>\n",
       "    </tr>\n",
       "    <tr>\n",
       "      <th>Индонезия</th>\n",
       "      <td>9</td>\n",
       "      <td>16.11</td>\n",
       "      <td>22.231734</td>\n",
       "      <td>3.144042</td>\n",
       "    </tr>\n",
       "    <tr>\n",
       "      <th>Индия</th>\n",
       "      <td>8</td>\n",
       "      <td>12.75</td>\n",
       "      <td>11.734412</td>\n",
       "      <td>1.659496</td>\n",
       "    </tr>\n",
       "    <tr>\n",
       "      <th>Чили</th>\n",
       "      <td>8</td>\n",
       "      <td>21.12</td>\n",
       "      <td>20.177781</td>\n",
       "      <td>2.853569</td>\n",
       "    </tr>\n",
       "    <tr>\n",
       "      <th>Аргентина</th>\n",
       "      <td>7</td>\n",
       "      <td>28.00</td>\n",
       "      <td>19.250232</td>\n",
       "      <td>2.722394</td>\n",
       "    </tr>\n",
       "    <tr>\n",
       "      <th>Доминиканская Республика</th>\n",
       "      <td>7</td>\n",
       "      <td>19.29</td>\n",
       "      <td>22.968923</td>\n",
       "      <td>3.248296</td>\n",
       "    </tr>\n",
       "    <tr>\n",
       "      <th>Вьетнам</th>\n",
       "      <td>6</td>\n",
       "      <td>17.67</td>\n",
       "      <td>28.343724</td>\n",
       "      <td>4.008408</td>\n",
       "    </tr>\n",
       "    <tr>\n",
       "      <th>Польша</th>\n",
       "      <td>6</td>\n",
       "      <td>14.83</td>\n",
       "      <td>10.481730</td>\n",
       "      <td>1.482340</td>\n",
       "    </tr>\n",
       "    <tr>\n",
       "      <th>Таиланд</th>\n",
       "      <td>5</td>\n",
       "      <td>14.20</td>\n",
       "      <td>30.210925</td>\n",
       "      <td>4.272470</td>\n",
       "    </tr>\n",
       "    <tr>\n",
       "      <th>Гонконг</th>\n",
       "      <td>5</td>\n",
       "      <td>19.20</td>\n",
       "      <td>14.679918</td>\n",
       "      <td>2.076054</td>\n",
       "    </tr>\n",
       "    <tr>\n",
       "      <th>Египет</th>\n",
       "      <td>4</td>\n",
       "      <td>9.75</td>\n",
       "      <td>5.439056</td>\n",
       "      <td>0.769199</td>\n",
       "    </tr>\n",
       "    <tr>\n",
       "      <th>Марокко</th>\n",
       "      <td>4</td>\n",
       "      <td>14.00</td>\n",
       "      <td>15.033296</td>\n",
       "      <td>2.126029</td>\n",
       "    </tr>\n",
       "    <tr>\n",
       "      <th>Украина</th>\n",
       "      <td>4</td>\n",
       "      <td>8.50</td>\n",
       "      <td>17.136705</td>\n",
       "      <td>2.423496</td>\n",
       "    </tr>\n",
       "    <tr>\n",
       "      <th>Россия</th>\n",
       "      <td>3</td>\n",
       "      <td>25.33</td>\n",
       "      <td>20.297783</td>\n",
       "      <td>2.870540</td>\n",
       "    </tr>\n",
       "    <tr>\n",
       "      <th>Италия</th>\n",
       "      <td>3</td>\n",
       "      <td>2.67</td>\n",
       "      <td>8.000000</td>\n",
       "      <td>1.131371</td>\n",
       "    </tr>\n",
       "    <tr>\n",
       "      <th>Турция</th>\n",
       "      <td>2</td>\n",
       "      <td>15.50</td>\n",
       "      <td>28.284271</td>\n",
       "      <td>4.000000</td>\n",
       "    </tr>\n",
       "    <tr>\n",
       "      <th>Япония</th>\n",
       "      <td>1</td>\n",
       "      <td>2.00</td>\n",
       "      <td>NaN</td>\n",
       "      <td>NaN</td>\n",
       "    </tr>\n",
       "  </tbody>\n",
       "</table>\n",
       "</div>"
      ],
      "text/plain": [
       "                          amount  average_place_in_local        std        se\n",
       "country                                                                      \n",
       "ОАЭ                           35                   22.80   7.476911  1.057395\n",
       "Канада                        34                   22.03  13.569685  1.919043\n",
       "Австралия                     31                   21.84  10.281207  1.453982\n",
       "Швейцария                     27                   17.59  11.830835  1.673133\n",
       "США                           27                   21.04  13.726262  1.941187\n",
       "Ирландия                      26                   19.08  12.679299  1.793124\n",
       "Австрия                       25                   18.56  10.388776  1.469195\n",
       "Чехия                         24                   17.83  11.813696  1.670709\n",
       "Словакия                      24                   17.62  13.142199  1.858588\n",
       "Сингапур                      24                   18.21  17.284491  2.444396\n",
       "Новая Зеландия                24                   18.62   6.194756  0.876071\n",
       "Бельгия                       23                   14.70  12.947141  1.831002\n",
       "Великобритания                22                   16.59  14.708421  2.080085\n",
       "Венгрия                       20                   15.45  13.839208  1.957160\n",
       "Германия                      20                   16.40  10.857328  1.535458\n",
       "Малайзия                      19                   19.26  20.436609  2.890173\n",
       "ЮАР                           19                   13.32  12.254609  1.733063\n",
       "Саудовская Аравия             19                   23.68  16.495968  2.332882\n",
       "Румыния                       18                   16.83  19.981037  2.825745\n",
       "Дания                         18                   14.56  15.442493  2.183898\n",
       "Финляндия                     18                   15.67  14.282857  2.019901\n",
       "Нидерланды                    16                   13.31  15.570137  2.201950\n",
       "Норвегия                      16                   14.56  16.124386  2.280333\n",
       "Израиль                       16                   12.88   6.407027  0.906091\n",
       "Филиппины                     14                   16.36  15.660723  2.214761\n",
       "Южная Корея                   13                   15.62  19.857182  2.808230\n",
       "Панама                        13                   20.54  25.880643  3.660076\n",
       "Тайвань                       12                   13.75  17.911187  2.533024\n",
       "Швеция                        12                   13.00   8.233339  1.164370\n",
       "Эквадор                       11                   23.45  29.296292  4.143121\n",
       "Колумбия                      10                   22.10  27.240493  3.852387\n",
       "Мексика                       10                   25.50  19.664124  2.780927\n",
       "Перу                           9                   23.89  26.934076  3.809054\n",
       "Гватемала                      9                   27.67  17.670597  2.499000\n",
       "Испания                        9                   24.22  27.645072  3.909604\n",
       "Индонезия                      9                   16.11  22.231734  3.144042\n",
       "Индия                          8                   12.75  11.734412  1.659496\n",
       "Чили                           8                   21.12  20.177781  2.853569\n",
       "Аргентина                      7                   28.00  19.250232  2.722394\n",
       "Доминиканская Республика       7                   19.29  22.968923  3.248296\n",
       "Вьетнам                        6                   17.67  28.343724  4.008408\n",
       "Польша                         6                   14.83  10.481730  1.482340\n",
       "Таиланд                        5                   14.20  30.210925  4.272470\n",
       "Гонконг                        5                   19.20  14.679918  2.076054\n",
       "Египет                         4                    9.75   5.439056  0.769199\n",
       "Марокко                        4                   14.00  15.033296  2.126029\n",
       "Украина                        4                    8.50  17.136705  2.423496\n",
       "Россия                         3                   25.33  20.297783  2.870540\n",
       "Италия                         3                    2.67   8.000000  1.131371\n",
       "Турция                         2                   15.50  28.284271  4.000000\n",
       "Япония                         1                    2.00        NaN       NaN"
      ]
     },
     "execution_count": 45,
     "metadata": {},
     "output_type": "execute_result"
    }
   ],
   "source": [
    "result"
   ]
  },
  {
   "cell_type": "code",
   "execution_count": 15,
   "metadata": {},
   "outputs": [
    {
     "data": {
      "text/plain": [
       "<AxesSubplot:>"
      ]
     },
     "execution_count": 15,
     "metadata": {},
     "output_type": "execute_result"
    },
    {
     "data": {
      "image/png": "[encoded data removed]",
      "text/plain": [
       "<Figure size 432x288 with 1 Axes>"
      ]
     },
     "metadata": {
      "needs_background": "light"
     },
     "output_type": "display_data"
    }
   ],
   "source": [
    "result.amount.apply(lambda x: 3 * round(x/3)).value_counts().sort_index().plot()"
   ]
  },
  {
   "cell_type": "code",
   "execution_count": 13,
   "metadata": {},
   "outputs": [
    {
     "data": {
      "text/plain": [
       "<AxesSubplot:>"
      ]
     },
     "execution_count": 13,
     "metadata": {},
     "output_type": "execute_result"
    },
    {
     "data": {
      "image/png": "[encoded data removed]",
      "text/plain": [
       "<Figure size 432x288 with 1 Axes>"
      ]
     },
     "metadata": {
      "needs_background": "light"
     },
     "output_type": "display_data"
    }
   ],
   "source": [
    "result.amount.value_counts().sort_index().plot()"
   ]
  },
  {
   "cell_type": "markdown",
   "metadata": {},
   "source": [
    "## 2. Предпочитаемые жанры среди стран"
   ]
  },
  {
   "cell_type": "code",
   "execution_count": 15,
   "metadata": {},
   "outputs": [],
   "source": [
    "country_charts = week_charts[week_charts.country != 'во всем мире']"
   ]
  },
  {
   "cell_type": "code",
   "execution_count": 23,
   "metadata": {},
   "outputs": [
    {
     "data": {
      "text/plain": [
       "539"
      ]
     },
     "execution_count": 23,
     "metadata": {},
     "output_type": "execute_result"
    }
   ],
   "source": [
    "country_charts.genre.unique()"
   ]
  },
  {
   "cell_type": "code",
   "execution_count": 21,
   "metadata": {},
   "outputs": [
    {
     "data": {
      "text/plain": [
       "russian hip hop          34\n",
       "russian drain            13\n",
       "russian trap              8\n",
       "russian alt pop           7\n",
       "russian pop               6\n",
       "russian drill             3\n",
       "russian indie rock        2\n",
       "russian hyperpop          2\n",
       "russian emo rap           2\n",
       "kazakh pop                1\n",
       "russian viral pop         1\n",
       "central asian hip hop     1\n",
       "kazakh hip hop            1\n",
       "modern rock               1\n",
       "weirdcore                 1\n",
       "russian dance pop         1\n",
       "russian pop punk          1\n",
       "russian punk              1\n",
       "russian punk rock         1\n",
       "russian gangster rap      1\n",
       "russian grime             1\n",
       "drift phonk               1\n",
       "otacore                   1\n",
       "fnaf                      1\n",
       "rock                      1\n",
       "kavkaz                    1\n",
       "russian indie             1\n",
       "russian dance             1\n",
       "pop                       1\n",
       "alt z                     1\n",
       "russian rock              1\n",
       "Name: genre, dtype: int64"
      ]
     },
     "execution_count": 21,
     "metadata": {},
     "output_type": "execute_result"
    }
   ],
   "source": [
    "rus = country_charts.groupby('country').get_group('Россия')\n",
    "rus.genre.value_counts()"
   ]
  },
  {
   "cell_type": "markdown",
   "metadata": {},
   "source": [
    "## Исполнители попавшие в наибольшее число чартов "
   ]
  },
  {
   "cell_type": "code",
   "execution_count": 10,
   "metadata": {},
   "outputs": [
    {
     "data": {
      "text/html": [
       "<div>\n",
       "<style scoped>\n",
       "    .dataframe tbody tr th:only-of-type {\n",
       "        vertical-align: middle;\n",
       "    }\n",
       "\n",
       "    .dataframe tbody tr th {\n",
       "        vertical-align: top;\n",
       "    }\n",
       "\n",
       "    .dataframe thead th {\n",
       "        text-align: right;\n",
       "    }\n",
       "</style>\n",
       "<table border=\"1\" class=\"dataframe\">\n",
       "  <thead>\n",
       "    <tr style=\"text-align: right;\">\n",
       "      <th></th>\n",
       "      <th>times_in_charts</th>\n",
       "      <th>place</th>\n",
       "    </tr>\n",
       "    <tr>\n",
       "      <th>artist</th>\n",
       "      <th></th>\n",
       "      <th></th>\n",
       "    </tr>\n",
       "  </thead>\n",
       "  <tbody>\n",
       "    <tr>\n",
       "      <th>Bad Bunny</th>\n",
       "      <td>75</td>\n",
       "      <td>28.026667</td>\n",
       "    </tr>\n",
       "    <tr>\n",
       "      <th>Ed Sheeran</th>\n",
       "      <td>64</td>\n",
       "      <td>23.578125</td>\n",
       "    </tr>\n",
       "    <tr>\n",
       "      <th>Lil Nas X</th>\n",
       "      <td>54</td>\n",
       "      <td>22.203704</td>\n",
       "    </tr>\n",
       "    <tr>\n",
       "      <th>Imagine Dragons</th>\n",
       "      <td>42</td>\n",
       "      <td>20.000000</td>\n",
       "    </tr>\n",
       "    <tr>\n",
       "      <th>Glass Animals</th>\n",
       "      <td>38</td>\n",
       "      <td>11.736842</td>\n",
       "    </tr>\n",
       "    <tr>\n",
       "      <th>...</th>\n",
       "      <td>...</td>\n",
       "      <td>...</td>\n",
       "    </tr>\n",
       "    <tr>\n",
       "      <th>Kaan Boşnak</th>\n",
       "      <td>1</td>\n",
       "      <td>26.000000</td>\n",
       "    </tr>\n",
       "    <tr>\n",
       "      <th>Kacperczyk</th>\n",
       "      <td>1</td>\n",
       "      <td>27.000000</td>\n",
       "    </tr>\n",
       "    <tr>\n",
       "      <th>Kaleb J</th>\n",
       "      <td>1</td>\n",
       "      <td>16.000000</td>\n",
       "    </tr>\n",
       "    <tr>\n",
       "      <th>Kali</th>\n",
       "      <td>1</td>\n",
       "      <td>38.000000</td>\n",
       "    </tr>\n",
       "    <tr>\n",
       "      <th>颜人中</th>\n",
       "      <td>1</td>\n",
       "      <td>27.000000</td>\n",
       "    </tr>\n",
       "  </tbody>\n",
       "</table>\n",
       "<p>948 rows × 2 columns</p>\n",
       "</div>"
      ],
      "text/plain": [
       "                 times_in_charts      place\n",
       "artist                                     \n",
       "Bad Bunny                     75  28.026667\n",
       "Ed Sheeran                    64  23.578125\n",
       "Lil Nas X                     54  22.203704\n",
       "Imagine Dragons               42  20.000000\n",
       "Glass Animals                 38  11.736842\n",
       "...                          ...        ...\n",
       "Kaan Boşnak                    1  26.000000\n",
       "Kacperczyk                     1  27.000000\n",
       "Kaleb J                        1  16.000000\n",
       "Kali                           1  38.000000\n",
       "颜人中                            1  27.000000\n",
       "\n",
       "[948 rows x 2 columns]"
      ]
     },
     "execution_count": 10,
     "metadata": {},
     "output_type": "execute_result"
    }
   ],
   "source": [
    "week_place.groupby('artist') \\\n",
    "    .agg({'artist':'count', 'place':np.mean}) \\\n",
    "    .rename(columns={'artist':'times_in_charts'}) \\\n",
    "    .sort_values('times_in_charts', ascending=False)"
   ]
  }
 ],
 "metadata": {
  "interpreter": {
   "hash": "f564c4f7a658856874a6bb8222eec27a89723913caf2868cfab31da1f181d1fb"
  },
  "kernelspec": {
   "display_name": "Python 3.9.7 ('Diplom')",
   "language": "python",
   "name": "python3"
  },
  "language_info": {
   "codemirror_mode": {
    "name": "ipython",
    "version": 3
   },
   "file_extension": ".py",
   "mimetype": "text/x-python",
   "name": "python",
   "nbconvert_exporter": "python",
   "pygments_lexer": "ipython3",
   "version": "3.9.7"
  },
  "orig_nbformat": 4
 },
 "nbformat": 4,
 "nbformat_minor": 2
}
