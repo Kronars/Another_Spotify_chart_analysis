{
 "cells": [
  {
   "cell_type": "code",
   "execution_count": 3,
   "metadata": {},
   "outputs": [],
   "source": [
    "import requests as req\n",
    "import pandas as pd\n",
    "import numpy as np\n",
    "import matplotlib as mat\n",
    "from matplotlib import pyplot as plt"
   ]
  },
  {
   "cell_type": "markdown",
   "metadata": {},
   "source": [
    "# Анализ данных"
   ]
  },
  {
   "cell_type": "markdown",
   "metadata": {},
   "source": [
    "Для удобства в первую очередь проверю все гипотезы на одном чарте, в дальнейшем проверю на остальных"
   ]
  },
  {
   "cell_type": "code",
   "execution_count": 4,
   "metadata": {},
   "outputs": [],
   "source": [
    "week_charts = pd.read_csv('data_sets\\week_charts_features.csv')"
   ]
  },
  {
   "cell_type": "markdown",
   "metadata": {},
   "source": [
    "Гипотезы и цели:\n",
    "1. Треки из глобального чарта равномерно распределены по чартам стран\n",
    "2. Выяснить долю и популярность локальных исполнителей\n",
    "3. Разделить страны на кластеры по предпочтениям жанров и атрибутов музыки"
   ]
  },
  {
   "cell_type": "markdown",
   "metadata": {},
   "source": [
    "Поздно понял что место трека в чарте полезная информация"
   ]
  },
  {
   "cell_type": "code",
   "execution_count": 5,
   "metadata": {},
   "outputs": [],
   "source": [
    "position = np.arange(1, 51)\n",
    "countrs = week_charts.country.unique()\n",
    "iterabli = [countrs, position]\n",
    "idx = pd.MultiIndex.from_product(iterabli, names=['country', 'place'])"
   ]
  },
  {
   "cell_type": "code",
   "execution_count": 6,
   "metadata": {},
   "outputs": [],
   "source": [
    "week_place = week_charts.set_index(idx) \\\n",
    "            .drop('country', axis=1) \\\n",
    "            .reset_index()"
   ]
  },
  {
   "cell_type": "markdown",
   "metadata": {},
   "source": [
    "## 1. Насколько чарты стран схожи с глобальным чартом"
   ]
  },
  {
   "cell_type": "markdown",
   "metadata": {},
   "source": [
    "Формирую глобальный и локальные чарты"
   ]
  },
  {
   "cell_type": "code",
   "execution_count": 7,
   "metadata": {},
   "outputs": [
    {
     "data": {
      "text/html": [
       "<div>\n",
       "<style scoped>\n",
       "    .dataframe tbody tr th:only-of-type {\n",
       "        vertical-align: middle;\n",
       "    }\n",
       "\n",
       "    .dataframe tbody tr th {\n",
       "        vertical-align: top;\n",
       "    }\n",
       "\n",
       "    .dataframe thead th {\n",
       "        text-align: right;\n",
       "    }\n",
       "</style>\n",
       "<table border=\"1\" class=\"dataframe\">\n",
       "  <thead>\n",
       "    <tr style=\"text-align: right;\">\n",
       "      <th></th>\n",
       "      <th>place</th>\n",
       "      <th>name</th>\n",
       "    </tr>\n",
       "  </thead>\n",
       "  <tbody>\n",
       "    <tr>\n",
       "      <th>0</th>\n",
       "      <td>1</td>\n",
       "      <td>Heat Waves</td>\n",
       "    </tr>\n",
       "    <tr>\n",
       "      <th>1</th>\n",
       "      <td>2</td>\n",
       "      <td>STAY (with Justin Bieber)</td>\n",
       "    </tr>\n",
       "    <tr>\n",
       "      <th>2</th>\n",
       "      <td>3</td>\n",
       "      <td>Enemy (with JID) - from the series Arcane Leag...</td>\n",
       "    </tr>\n",
       "  </tbody>\n",
       "</table>\n",
       "</div>"
      ],
      "text/plain": [
       "   place                                               name\n",
       "0      1                                         Heat Waves\n",
       "1      2                          STAY (with Justin Bieber)\n",
       "2      3  Enemy (with JID) - from the series Arcane Leag..."
      ]
     },
     "execution_count": 7,
     "metadata": {},
     "output_type": "execute_result"
    }
   ],
   "source": [
    "global_chart = week_place[week_place.country == 'во всем мире'][['place', 'name']]\n",
    "global_chart.head(3)"
   ]
  },
  {
   "cell_type": "code",
   "execution_count": 8,
   "metadata": {},
   "outputs": [
    {
     "data": {
      "text/html": [
       "<div>\n",
       "<style scoped>\n",
       "    .dataframe tbody tr th:only-of-type {\n",
       "        vertical-align: middle;\n",
       "    }\n",
       "\n",
       "    .dataframe tbody tr th {\n",
       "        vertical-align: top;\n",
       "    }\n",
       "\n",
       "    .dataframe thead th {\n",
       "        text-align: right;\n",
       "    }\n",
       "</style>\n",
       "<table border=\"1\" class=\"dataframe\">\n",
       "  <thead>\n",
       "    <tr style=\"text-align: right;\">\n",
       "      <th></th>\n",
       "      <th>country</th>\n",
       "      <th>place</th>\n",
       "      <th>name</th>\n",
       "    </tr>\n",
       "  </thead>\n",
       "  <tbody>\n",
       "    <tr>\n",
       "      <th>50</th>\n",
       "      <td>Австралия</td>\n",
       "      <td>1</td>\n",
       "      <td>Heat Waves</td>\n",
       "    </tr>\n",
       "    <tr>\n",
       "      <th>51</th>\n",
       "      <td>Австралия</td>\n",
       "      <td>2</td>\n",
       "      <td>STAY (with Justin Bieber)</td>\n",
       "    </tr>\n",
       "    <tr>\n",
       "      <th>52</th>\n",
       "      <td>Австралия</td>\n",
       "      <td>3</td>\n",
       "      <td>Cold Heart - PNAU Remix</td>\n",
       "    </tr>\n",
       "  </tbody>\n",
       "</table>\n",
       "</div>"
      ],
      "text/plain": [
       "      country  place                       name\n",
       "50  Австралия      1                 Heat Waves\n",
       "51  Австралия      2  STAY (with Justin Bieber)\n",
       "52  Австралия      3    Cold Heart - PNAU Remix"
      ]
     },
     "execution_count": 8,
     "metadata": {},
     "output_type": "execute_result"
    }
   ],
   "source": [
    "country_charts = week_place[week_place.country != \"во всем мире\"][['country', 'place', 'name']]\n",
    "country_charts.head(3)"
   ]
  },
  {
   "cell_type": "markdown",
   "metadata": {},
   "source": [
    "Фрейм с треками и их позициями, которые есть в глобальном и локальных чартах"
   ]
  },
  {
   "cell_type": "code",
   "execution_count": 9,
   "metadata": {},
   "outputs": [
    {
     "data": {
      "text/html": [
       "<div>\n",
       "<style scoped>\n",
       "    .dataframe tbody tr th:only-of-type {\n",
       "        vertical-align: middle;\n",
       "    }\n",
       "\n",
       "    .dataframe tbody tr th {\n",
       "        vertical-align: top;\n",
       "    }\n",
       "\n",
       "    .dataframe thead th {\n",
       "        text-align: right;\n",
       "    }\n",
       "</style>\n",
       "<table border=\"1\" class=\"dataframe\">\n",
       "  <thead>\n",
       "    <tr style=\"text-align: right;\">\n",
       "      <th></th>\n",
       "      <th>country</th>\n",
       "      <th>place_in_global</th>\n",
       "      <th>name</th>\n",
       "      <th>place_in_local</th>\n",
       "    </tr>\n",
       "  </thead>\n",
       "  <tbody>\n",
       "    <tr>\n",
       "      <th>0</th>\n",
       "      <td>Австралия</td>\n",
       "      <td>1</td>\n",
       "      <td>Heat Waves</td>\n",
       "      <td>1</td>\n",
       "    </tr>\n",
       "    <tr>\n",
       "      <th>1</th>\n",
       "      <td>Австрия</td>\n",
       "      <td>1</td>\n",
       "      <td>Heat Waves</td>\n",
       "      <td>1</td>\n",
       "    </tr>\n",
       "    <tr>\n",
       "      <th>2</th>\n",
       "      <td>Бельгия</td>\n",
       "      <td>3</td>\n",
       "      <td>Heat Waves</td>\n",
       "      <td>1</td>\n",
       "    </tr>\n",
       "  </tbody>\n",
       "</table>\n",
       "</div>"
      ],
      "text/plain": [
       "     country  place_in_global        name  place_in_local\n",
       "0  Австралия                1  Heat Waves               1\n",
       "1    Австрия                1  Heat Waves               1\n",
       "2    Бельгия                3  Heat Waves               1"
      ]
     },
     "execution_count": 9,
     "metadata": {},
     "output_type": "execute_result"
    }
   ],
   "source": [
    "similarity = pd.merge(country_charts, global_chart, on='name', how='inner', suffixes=['_in_global', '_in_local'])\n",
    "similarity.head(3)"
   ]
  },
  {
   "cell_type": "markdown",
   "metadata": {},
   "source": [
    "Добавил две метрики:  \n",
    "Средняя позиция треков глобольного чарта в локальном  \n",
    "Стандартное отклонение разницы позиции трека в глобальном и локальных чартах"
   ]
  },
  {
   "cell_type": "code",
   "execution_count": 10,
   "metadata": {},
   "outputs": [],
   "source": [
    "result = similarity.copy()\n",
    "result['diff'] = result.place_in_local - result.place_in_global\n",
    "result.sort_values('country')\n",
    "result = result.groupby('country') \\\n",
    "                .agg(\n",
    "                    amount=('name', 'count'),\n",
    "                    average_place_in_local=('place_in_local', lambda x: np.around(np.mean(x), 2)),\n",
    "                    std=('diff', 'std')\n",
    "                )\n",
    "result = result.sort_values('amount', ascending=0)"
   ]
  },
  {
   "cell_type": "code",
   "execution_count": 12,
   "metadata": {},
   "outputs": [
    {
     "data": {
      "text/html": [
       "<div>\n",
       "<style scoped>\n",
       "    .dataframe tbody tr th:only-of-type {\n",
       "        vertical-align: middle;\n",
       "    }\n",
       "\n",
       "    .dataframe tbody tr th {\n",
       "        vertical-align: top;\n",
       "    }\n",
       "\n",
       "    .dataframe thead th {\n",
       "        text-align: right;\n",
       "    }\n",
       "</style>\n",
       "<table border=\"1\" class=\"dataframe\">\n",
       "  <thead>\n",
       "    <tr style=\"text-align: right;\">\n",
       "      <th></th>\n",
       "      <th>amount</th>\n",
       "      <th>average_place_in_local</th>\n",
       "      <th>std</th>\n",
       "    </tr>\n",
       "    <tr>\n",
       "      <th>country</th>\n",
       "      <th></th>\n",
       "      <th></th>\n",
       "      <th></th>\n",
       "    </tr>\n",
       "  </thead>\n",
       "  <tbody>\n",
       "    <tr>\n",
       "      <th>ОАЭ</th>\n",
       "      <td>35</td>\n",
       "      <td>22.80</td>\n",
       "      <td>7.476911</td>\n",
       "    </tr>\n",
       "    <tr>\n",
       "      <th>Канада</th>\n",
       "      <td>34</td>\n",
       "      <td>22.03</td>\n",
       "      <td>13.569685</td>\n",
       "    </tr>\n",
       "    <tr>\n",
       "      <th>Австралия</th>\n",
       "      <td>31</td>\n",
       "      <td>21.84</td>\n",
       "      <td>10.281207</td>\n",
       "    </tr>\n",
       "    <tr>\n",
       "      <th>Швейцария</th>\n",
       "      <td>27</td>\n",
       "      <td>17.59</td>\n",
       "      <td>11.830835</td>\n",
       "    </tr>\n",
       "    <tr>\n",
       "      <th>США</th>\n",
       "      <td>27</td>\n",
       "      <td>21.04</td>\n",
       "      <td>13.726262</td>\n",
       "    </tr>\n",
       "  </tbody>\n",
       "</table>\n",
       "</div>"
      ],
      "text/plain": [
       "           amount  average_place_in_local        std\n",
       "country                                             \n",
       "ОАЭ            35                   22.80   7.476911\n",
       "Канада         34                   22.03  13.569685\n",
       "Австралия      31                   21.84  10.281207\n",
       "Швейцария      27                   17.59  11.830835\n",
       "США            27                   21.04  13.726262"
      ]
     },
     "execution_count": 12,
     "metadata": {},
     "output_type": "execute_result"
    }
   ],
   "source": [
    "result.head()"
   ]
  },
  {
   "cell_type": "markdown",
   "metadata": {},
   "source": [
    "## Исполнители попавшие в наибольшее число чартов "
   ]
  },
  {
   "cell_type": "code",
   "execution_count": 6,
   "metadata": {},
   "outputs": [
    {
     "data": {
      "text/html": [
       "<div>\n",
       "<style scoped>\n",
       "    .dataframe tbody tr th:only-of-type {\n",
       "        vertical-align: middle;\n",
       "    }\n",
       "\n",
       "    .dataframe tbody tr th {\n",
       "        vertical-align: top;\n",
       "    }\n",
       "\n",
       "    .dataframe thead th {\n",
       "        text-align: right;\n",
       "    }\n",
       "</style>\n",
       "<table border=\"1\" class=\"dataframe\">\n",
       "  <thead>\n",
       "    <tr style=\"text-align: right;\">\n",
       "      <th></th>\n",
       "      <th>times_in_charts</th>\n",
       "      <th>place</th>\n",
       "    </tr>\n",
       "    <tr>\n",
       "      <th>artist</th>\n",
       "      <th></th>\n",
       "      <th></th>\n",
       "    </tr>\n",
       "  </thead>\n",
       "  <tbody>\n",
       "    <tr>\n",
       "      <th>Bad Bunny</th>\n",
       "      <td>75</td>\n",
       "      <td>28.026667</td>\n",
       "    </tr>\n",
       "    <tr>\n",
       "      <th>Ed Sheeran</th>\n",
       "      <td>64</td>\n",
       "      <td>23.578125</td>\n",
       "    </tr>\n",
       "    <tr>\n",
       "      <th>Lil Nas X</th>\n",
       "      <td>54</td>\n",
       "      <td>22.203704</td>\n",
       "    </tr>\n",
       "    <tr>\n",
       "      <th>Imagine Dragons</th>\n",
       "      <td>42</td>\n",
       "      <td>20.000000</td>\n",
       "    </tr>\n",
       "    <tr>\n",
       "      <th>Glass Animals</th>\n",
       "      <td>38</td>\n",
       "      <td>11.736842</td>\n",
       "    </tr>\n",
       "    <tr>\n",
       "      <th>...</th>\n",
       "      <td>...</td>\n",
       "      <td>...</td>\n",
       "    </tr>\n",
       "    <tr>\n",
       "      <th>Kaan Boşnak</th>\n",
       "      <td>1</td>\n",
       "      <td>26.000000</td>\n",
       "    </tr>\n",
       "    <tr>\n",
       "      <th>Kacperczyk</th>\n",
       "      <td>1</td>\n",
       "      <td>27.000000</td>\n",
       "    </tr>\n",
       "    <tr>\n",
       "      <th>Kaleb J</th>\n",
       "      <td>1</td>\n",
       "      <td>16.000000</td>\n",
       "    </tr>\n",
       "    <tr>\n",
       "      <th>Kali</th>\n",
       "      <td>1</td>\n",
       "      <td>38.000000</td>\n",
       "    </tr>\n",
       "    <tr>\n",
       "      <th>颜人中</th>\n",
       "      <td>1</td>\n",
       "      <td>27.000000</td>\n",
       "    </tr>\n",
       "  </tbody>\n",
       "</table>\n",
       "<p>948 rows × 2 columns</p>\n",
       "</div>"
      ],
      "text/plain": [
       "                 times_in_charts      place\n",
       "artist                                     \n",
       "Bad Bunny                     75  28.026667\n",
       "Ed Sheeran                    64  23.578125\n",
       "Lil Nas X                     54  22.203704\n",
       "Imagine Dragons               42  20.000000\n",
       "Glass Animals                 38  11.736842\n",
       "...                          ...        ...\n",
       "Kaan Boşnak                    1  26.000000\n",
       "Kacperczyk                     1  27.000000\n",
       "Kaleb J                        1  16.000000\n",
       "Kali                           1  38.000000\n",
       "颜人中                            1  27.000000\n",
       "\n",
       "[948 rows x 2 columns]"
      ]
     },
     "execution_count": 6,
     "metadata": {},
     "output_type": "execute_result"
    }
   ],
   "source": [
    "week_place.groupby('artist') \\\n",
    "    .agg({'artist':'count', 'place':np.mean}) \\\n",
    "    .rename(columns={'artist':'times_in_charts'}) \\\n",
    "    .sort_values('times_in_charts', ascending=False)"
   ]
  }
 ],
 "metadata": {
  "interpreter": {
   "hash": "f564c4f7a658856874a6bb8222eec27a89723913caf2868cfab31da1f181d1fb"
  },
  "kernelspec": {
   "display_name": "Python 3.9.7 ('Diplom')",
   "language": "python",
   "name": "python3"
  },
  "language_info": {
   "codemirror_mode": {
    "name": "ipython",
    "version": 3
   },
   "file_extension": ".py",
   "mimetype": "text/x-python",
   "name": "python",
   "nbconvert_exporter": "python",
   "pygments_lexer": "ipython3",
   "version": "3.9.7"
  },
  "orig_nbformat": 4
 },
 "nbformat": 4,
 "nbformat_minor": 2
}
